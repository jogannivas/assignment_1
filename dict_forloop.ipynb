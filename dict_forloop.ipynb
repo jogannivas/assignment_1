{
 "cells": [
  {
   "cell_type": "code",
   "execution_count": 8,
   "id": "2c44f4e5-f62c-4900-9baa-0c37db052afa",
   "metadata": {},
   "outputs": [],
   "source": [
    "d={'a':'joganni'}"
   ]
  },
  {
   "cell_type": "code",
   "execution_count": 6,
   "id": "e140ccc5-1ba7-4c73-9647-9e201f450fa6",
   "metadata": {},
   "outputs": [
    {
     "data": {
      "text/plain": [
       "dict"
      ]
     },
     "execution_count": 6,
     "metadata": {},
     "output_type": "execute_result"
    }
   ],
   "source": [
    "type(d)"
   ]
  },
  {
   "cell_type": "code",
   "execution_count": 7,
   "id": "eea56757-26e4-44c7-b380-f97d08aa3741",
   "metadata": {},
   "outputs": [
    {
     "data": {
      "text/plain": [
       "{'key': 'joganni'}"
      ]
     },
     "execution_count": 7,
     "metadata": {},
     "output_type": "execute_result"
    }
   ],
   "source": [
    "d"
   ]
  },
  {
   "cell_type": "code",
   "execution_count": 11,
   "id": "4e5f2df8-0fd5-4a8a-9212-96ae967609b2",
   "metadata": {},
   "outputs": [],
   "source": [
    "d1={'name':'jogannivas','email':'nbjogannivas88@gmail.com','number':'2021224001'}"
   ]
  },
  {
   "cell_type": "code",
   "execution_count": 27,
   "id": "6b914210-08e3-4f50-984d-0d378adaf2e7",
   "metadata": {},
   "outputs": [],
   "source": [
    "d3={2322:1211 ,True:'255',True:'554','code':['c','c++','java','python']}"
   ]
  },
  {
   "cell_type": "code",
   "execution_count": 22,
   "id": "d741789a-e793-41e8-aa71-7bba2304730d",
   "metadata": {},
   "outputs": [
    {
     "data": {
      "text/plain": [
       "'jogannivas'"
      ]
     },
     "execution_count": 22,
     "metadata": {},
     "output_type": "execute_result"
    }
   ],
   "source": [
    "d1['name']"
   ]
  },
  {
   "cell_type": "code",
   "execution_count": 3,
   "id": "c612a5f5-1cc8-4729-a995-95b16c3c6475",
   "metadata": {},
   "outputs": [],
   "source": [
    "d4={'number':[7,8,9,41] , 'assign':(1,2,3,4),'lunch' : {25,26,14},'d5':{14:'get'}}"
   ]
  },
  {
   "cell_type": "code",
   "execution_count": 28,
   "id": "ac516464-440f-4a93-b4f9-9c4d62353ddc",
   "metadata": {},
   "outputs": [
    {
     "data": {
      "text/plain": [
       "'python'"
      ]
     },
     "execution_count": 28,
     "metadata": {},
     "output_type": "execute_result"
    }
   ],
   "source": [
    "d3['code'][3]"
   ]
  },
  {
   "cell_type": "code",
   "execution_count": 35,
   "id": "43765ec0-f2a2-42f0-8f2b-6e46b8413b3f",
   "metadata": {},
   "outputs": [
    {
     "data": {
      "text/plain": [
       "'get'"
      ]
     },
     "execution_count": 35,
     "metadata": {},
     "output_type": "execute_result"
    }
   ],
   "source": [
    "d4['d5'][14]"
   ]
  },
  {
   "cell_type": "code",
   "execution_count": 5,
   "id": "25cce342-1143-4809-a855-515fa3972571",
   "metadata": {},
   "outputs": [],
   "source": [
    "d4['n.name']=['r','a','j','a']"
   ]
  },
  {
   "cell_type": "code",
   "execution_count": 6,
   "id": "c45178b3-619b-48c0-83e2-77d80cdf6b39",
   "metadata": {},
   "outputs": [
    {
     "data": {
      "text/plain": [
       "{'number': [7, 8, 9, 41],\n",
       " 'assign': (1, 2, 3, 4),\n",
       " 'lunch': {14, 25, 26},\n",
       " 'd5': {14: 'get'},\n",
       " 'n.name': ['r', 'a', 'j', 'a']}"
      ]
     },
     "execution_count": 6,
     "metadata": {},
     "output_type": "execute_result"
    }
   ],
   "source": [
    "d4"
   ]
  },
  {
   "cell_type": "code",
   "execution_count": 7,
   "id": "a0776d8d-a8ce-4cca-8ebb-48d5638d0fdf",
   "metadata": {},
   "outputs": [],
   "source": [
    "del d4['lunch']"
   ]
  },
  {
   "cell_type": "code",
   "execution_count": 8,
   "id": "434986b2-1ac3-4cd7-b2d7-bedfe1521e80",
   "metadata": {},
   "outputs": [
    {
     "data": {
      "text/plain": [
       "{'number': [7, 8, 9, 41],\n",
       " 'assign': (1, 2, 3, 4),\n",
       " 'd5': {14: 'get'},\n",
       " 'n.name': ['r', 'a', 'j', 'a']}"
      ]
     },
     "execution_count": 8,
     "metadata": {},
     "output_type": "execute_result"
    }
   ],
   "source": [
    "d4"
   ]
  },
  {
   "cell_type": "code",
   "execution_count": 10,
   "id": "dfc04a19-0fe5-49e0-a634-10c76b66eab6",
   "metadata": {},
   "outputs": [
    {
     "data": {
      "text/plain": [
       "['number', 'assign', 'd5', 'n.name']"
      ]
     },
     "execution_count": 10,
     "metadata": {},
     "output_type": "execute_result"
    }
   ],
   "source": [
    "list (d4.keys())"
   ]
  },
  {
   "cell_type": "code",
   "execution_count": 12,
   "id": "6a578b82-2fa7-4d12-973f-a4fec69b01f3",
   "metadata": {},
   "outputs": [
    {
     "data": {
      "text/plain": [
       "dict_items([('number', [7, 8, 9, 41]), ('assign', (1, 2, 3, 4)), ('d5', {14: 'get'}), ('n.name', ['r', 'a', 'j', 'a'])])"
      ]
     },
     "execution_count": 12,
     "metadata": {},
     "output_type": "execute_result"
    }
   ],
   "source": [
    "d4.items()"
   ]
  },
  {
   "cell_type": "code",
   "execution_count": 13,
   "id": "913cda8d-0496-4f44-92ef-c15e7b63ed05",
   "metadata": {},
   "outputs": [
    {
     "data": {
      "text/plain": [
       "(1, 2, 3, 4)"
      ]
     },
     "execution_count": 13,
     "metadata": {},
     "output_type": "execute_result"
    }
   ],
   "source": [
    "d4.pop('assign')"
   ]
  },
  {
   "cell_type": "code",
   "execution_count": 14,
   "id": "52b06370-a4b6-46d8-9c02-cc4bbd39fed6",
   "metadata": {},
   "outputs": [
    {
     "data": {
      "text/plain": [
       "{'number': [7, 8, 9, 41], 'd5': {14: 'get'}, 'n.name': ['r', 'a', 'j', 'a']}"
      ]
     },
     "execution_count": 14,
     "metadata": {},
     "output_type": "execute_result"
    }
   ],
   "source": [
    "d4"
   ]
  },
  {
   "cell_type": "code",
   "execution_count": 24,
   "id": "7c912f15-df65-4456-a590-3f77fd75d74f",
   "metadata": {},
   "outputs": [
    {
     "name": "stdin",
     "output_type": "stream",
     "text": [
      "Entre your mark 96\n"
     ]
    },
    {
     "name": "stdout",
     "output_type": "stream",
     "text": [
      "you will be able for A0 batch\n"
     ]
    }
   ],
   "source": [
    "mark = int(input('Entre your mark'))\n",
    "if mark >= 80:\n",
    "    print(\"you will be able for A0 batch\")\n",
    "elif mark >= 60 and mark <= 80:\n",
    "    print('you will be a part of A1 batch')\n",
    "elif mark >=40 and mark<= 60:\n",
    "    print('A2')\n",
    "else :\n",
    "    print('A3')"
   ]
  },
  {
   "cell_type": "code",
   "execution_count": 37,
   "id": "d7655c1a-0dbe-442c-b996-33fb175b74d5",
   "metadata": {},
   "outputs": [
    {
     "name": "stdin",
     "output_type": "stream",
     "text": [
      "entre the price 10000\n"
     ]
    }
   ],
   "source": [
    "price=int(input(\n",
    "'entre the price'))\n",
    "if price >1000 :\n",
    "    if price >1000 and price <4000:\n",
    "        print('i will not purchase')\n",
    "    elif price > 1000 and price <8000 :\n",
    "        print ('ohh it is too much')\n",
    "else:\n",
    "    print ('wrong input')"
   ]
  },
  {
   "cell_type": "code",
   "execution_count": 54,
   "id": "d3377d88-8970-41c5-9dd2-8d5dc7894c53",
   "metadata": {},
   "outputs": [],
   "source": [
    "l=[1,2,3,4,5]"
   ]
  },
  {
   "cell_type": "code",
   "execution_count": 47,
   "id": "b295535b-bd32-48ee-bd68-13e1af431f3f",
   "metadata": {},
   "outputs": [
    {
     "data": {
      "text/plain": [
       "'1'"
      ]
     },
     "execution_count": 47,
     "metadata": {},
     "output_type": "execute_result"
    }
   ],
   "source": [
    "l[0]"
   ]
  },
  {
   "cell_type": "code",
   "execution_count": 50,
   "id": "82af74ab-ba77-4dc2-b521-b51d515567ec",
   "metadata": {},
   "outputs": [],
   "source": [
    "l1.append(5)"
   ]
  },
  {
   "cell_type": "code",
   "execution_count": 72,
   "id": "e7f3949b-dab5-4812-86d4-155bf28ac4bc",
   "metadata": {},
   "outputs": [],
   "source": [
    "l1=[]"
   ]
  },
  {
   "cell_type": "code",
   "execution_count": 58,
   "id": "1b929688-d475-4275-a61f-edac7713fcc8",
   "metadata": {},
   "outputs": [],
   "source": [
    "l1.append (l[1] +1 )"
   ]
  },
  {
   "cell_type": "code",
   "execution_count": 59,
   "id": "62b31bbb-edd8-4cd1-a6f9-985642178f41",
   "metadata": {},
   "outputs": [
    {
     "data": {
      "text/plain": [
       "[5, '1', 1, 3]"
      ]
     },
     "execution_count": 59,
     "metadata": {},
     "output_type": "execute_result"
    }
   ],
   "source": [
    "l1"
   ]
  },
  {
   "cell_type": "code",
   "execution_count": 60,
   "id": "f1c8ac0c-38c1-463d-8c46-e523c939f1d5",
   "metadata": {},
   "outputs": [
    {
     "data": {
      "text/plain": [
       "5"
      ]
     },
     "execution_count": 60,
     "metadata": {},
     "output_type": "execute_result"
    }
   ],
   "source": [
    "len(l)"
   ]
  },
  {
   "cell_type": "code",
   "execution_count": 73,
   "id": "85c9e034-d7b6-498d-95ef-88961de3684e",
   "metadata": {},
   "outputs": [
    {
     "name": "stdout",
     "output_type": "stream",
     "text": [
      "1\n",
      "2\n",
      "3\n",
      "4\n",
      "5\n"
     ]
    }
   ],
   "source": [
    "for i in l:\n",
    "    print(i)\n",
    "    l1.append(i+1)"
   ]
  },
  {
   "cell_type": "code",
   "execution_count": 76,
   "id": "7ac0730b-5062-4db7-ad98-e99a766d2160",
   "metadata": {},
   "outputs": [],
   "source": [
    "l=['jogannivas','pradhan']\n",
    "l2=[]"
   ]
  },
  {
   "cell_type": "code",
   "execution_count": 81,
   "id": "2f04d7d3-5fb2-4cf7-b380-fa4fc811c65b",
   "metadata": {},
   "outputs": [
    {
     "name": "stdout",
     "output_type": "stream",
     "text": [
      "jogannivas\n",
      "pradhan\n"
     ]
    }
   ],
   "source": [
    "for i in l:\n",
    "    print(i)\n",
    "    l2.append(i.upper())"
   ]
  },
  {
   "cell_type": "code",
   "execution_count": 82,
   "id": "175f7b4c-2934-49e9-8f9e-c8a98bd5bd10",
   "metadata": {},
   "outputs": [
    {
     "data": {
      "text/plain": [
       "['JOGANNIVAS', 'PRADHAN']"
      ]
     },
     "execution_count": 82,
     "metadata": {},
     "output_type": "execute_result"
    }
   ],
   "source": [
    "l2"
   ]
  },
  {
   "cell_type": "code",
   "execution_count": 83,
   "id": "3a6b1e81-453a-474d-85df-61172cf45de2",
   "metadata": {},
   "outputs": [
    {
     "data": {
      "text/plain": [
       "'JOGANNIVAS'"
      ]
     },
     "execution_count": 83,
     "metadata": {},
     "output_type": "execute_result"
    }
   ],
   "source": [
    "l[0].upper()"
   ]
  },
  {
   "cell_type": "code",
   "execution_count": 93,
   "id": "ebef1bef-239e-434c-b4f2-b67e1dee092a",
   "metadata": {},
   "outputs": [],
   "source": [
    "#seperate this list by looping\n",
    "l=[656,65,6,'jogannivas','pradhan',12,3,5,4,8,8]\n",
    "l4=[]\n",
    "l3=[]\n",
    "for i in l:\n",
    "    if type(i)==int :\n",
    "        l3.append(i)\n",
    "    else    :\n",
    "        l4.append(i)"
   ]
  },
  {
   "cell_type": "code",
   "execution_count": 98,
   "id": "0231cfe7-e56b-49df-b912-e11e62504417",
   "metadata": {},
   "outputs": [
    {
     "data": {
      "text/plain": [
       "[3, 4, 5, 6, 8, 8, 12, 65, 656]"
      ]
     },
     "execution_count": 98,
     "metadata": {},
     "output_type": "execute_result"
    }
   ],
   "source": [
    "l3.sort()\n",
    "l3"
   ]
  },
  {
   "cell_type": "code",
   "execution_count": 95,
   "id": "bf88f95b-6c9c-47a8-b672-d18436252d00",
   "metadata": {},
   "outputs": [
    {
     "data": {
      "text/plain": [
       "['jogannivas', 'pradhan']"
      ]
     },
     "execution_count": 95,
     "metadata": {},
     "output_type": "execute_result"
    }
   ],
   "source": [
    "l4"
   ]
  },
  {
   "cell_type": "code",
   "execution_count": null,
   "id": "6fd73076-57a0-485d-bfea-e3eedaaea03b",
   "metadata": {},
   "outputs": [],
   "source": []
  }
 ],
 "metadata": {
  "kernelspec": {
   "display_name": "Python 3 (ipykernel)",
   "language": "python",
   "name": "python3"
  },
  "language_info": {
   "codemirror_mode": {
    "name": "ipython",
    "version": 3
   },
   "file_extension": ".py",
   "mimetype": "text/x-python",
   "name": "python",
   "nbconvert_exporter": "python",
   "pygments_lexer": "ipython3",
   "version": "3.10.6"
  }
 },
 "nbformat": 4,
 "nbformat_minor": 5
}
